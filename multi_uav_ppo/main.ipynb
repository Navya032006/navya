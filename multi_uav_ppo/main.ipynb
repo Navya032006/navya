# Multi-UAV Real-Time Path Planning System
# Complete implementation with training, visualization, and data collection

# Install required packages
!pip install stable-baselines3 matplotlib pandas numpy gym seaborn

import sys
import os
import warnings
warnings.filterwarnings('ignore')

# Add project paths
sys.path.append('./env')
sys.path.append('./train')
sys.path.append('./test')
sys.path.append('./visualize')
sys.path.append('./utils')

# Core imports
import numpy as np
import pandas as pd
import matplotlib.pyplot as plt
from IPython.display import HTML, display, clear_output
import time
import json
from datetime import datetime

# Project imports
from uav_env import MultiUAVEnv
from stable_baselines3 import PPO

print("✅ Multi-UAV Real-Time Path Planning System Ready")
print("🚁 System initialized successfully!")